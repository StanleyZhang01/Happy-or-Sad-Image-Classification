{
 "cells": [
  {
   "cell_type": "code",
   "execution_count": null,
   "metadata": {},
   "outputs": [],
   "source": [
    "\"\"\"\n",
    "Environment Creation Workflow:\n",
    "\n",
    "python -m venv imageclassification # Creating Virtual Environment\n",
    ".\\imageclassification\\Scripts\\activate # Activating Virtual Environment\n",
    "pip install ipykernel\n",
    "python -m ipykernel install --name=imageclassification # Adds Virtual Environment to juypter notebook available kernels\n",
    "\"\"\""
   ]
  }
 ],
 "metadata": {
  "kernelspec": {
   "display_name": "imageclassification",
   "language": "python",
   "name": "imageclassification"
  },
  "language_info": {
   "codemirror_mode": {
    "name": "ipython",
    "version": 3
   },
   "file_extension": ".py",
   "mimetype": "text/x-python",
   "name": "python",
   "nbconvert_exporter": "python",
   "pygments_lexer": "ipython3",
   "version": "3.9.12"
  }
 },
 "nbformat": 4,
 "nbformat_minor": 4
}
